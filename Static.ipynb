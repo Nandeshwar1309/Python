{
  "nbformat": 4,
  "nbformat_minor": 0,
  "metadata": {
    "colab": {
      "provenance": [],
      "authorship_tag": "ABX9TyOpPm3a0bvl7EnHsewHklNu",
      "include_colab_link": true
    },
    "kernelspec": {
      "name": "python3",
      "display_name": "Python 3"
    },
    "language_info": {
      "name": "python"
    }
  },
  "cells": [
    {
      "cell_type": "markdown",
      "metadata": {
        "id": "view-in-github",
        "colab_type": "text"
      },
      "source": [
        "<a href=\"https://colab.research.google.com/github/Nandeshwar1309/Python/blob/main/Static.ipynb\" target=\"_parent\"><img src=\"https://colab.research.google.com/assets/colab-badge.svg\" alt=\"Open In Colab\"/></a>"
      ]
    },
    {
      "cell_type": "code",
      "execution_count": null,
      "metadata": {
        "colab": {
          "base_uri": "https://localhost:8080/"
        },
        "id": "4C-nFByEnTdI",
        "outputId": "30e45bdd-a085-4e99-9b72-3c000f14d5d9"
      },
      "outputs": [
        {
          "output_type": "stream",
          "name": "stdout",
          "text": [
            "I am static\n",
            "I am static\n"
          ]
        }
      ],
      "source": [
        "# Program to define a static variable and access that through a class\n",
        "\n",
        "class MyClass:\n",
        "    static_variable = \"I am static\"\n",
        "\n",
        "print(MyClass.static_variable)\n",
        "\n",
        "obj = MyClass()\n",
        "print(obj.static_variable)"
      ]
    },
    {
      "cell_type": "code",
      "source": [
        "# Program to define a static variable and access that through a instance\n",
        "\n",
        "class MyClass:\n",
        "    static_variable = \"I am static\"\n",
        "\n",
        "obj = MyClass()\n",
        "print(obj.static_variable)"
      ],
      "metadata": {
        "colab": {
          "base_uri": "https://localhost:8080/"
        },
        "id": "jaPzt6won-E_",
        "outputId": "987b8f21-4751-4795-f823-30ba19d4f623"
      },
      "execution_count": null,
      "outputs": [
        {
          "output_type": "stream",
          "name": "stdout",
          "text": [
            "I am static\n"
          ]
        }
      ]
    },
    {
      "cell_type": "code",
      "source": [
        "# Program to define a static variable and change within the instance\n",
        "\n",
        "class MyClass:\n",
        "    static_variable = \"I am static\"\n",
        "\n",
        "obj = MyClass()\n",
        "print(obj.static_variable)\n",
        "\n",
        "obj.static_variable = \"Instance\"\n",
        "print(obj.static_variable)"
      ],
      "metadata": {
        "colab": {
          "base_uri": "https://localhost:8080/"
        },
        "id": "gR0dPd_xoJa5",
        "outputId": "581bb269-22ac-4f6c-9b44-28a2cad86c56"
      },
      "execution_count": null,
      "outputs": [
        {
          "output_type": "stream",
          "name": "stdout",
          "text": [
            "I am static\n",
            "Instance\n"
          ]
        }
      ]
    },
    {
      "cell_type": "code",
      "source": [
        "# Program to define a static variable and change within the class\n",
        "\n",
        "class MyClass:\n",
        "    static_variable = \"I am static\"\n",
        "\n",
        "print(MyClass.static_variable)\n",
        "\n",
        "MyClass.static_variable = \"Class\"\n",
        "print(MyClass.static_variable)"
      ],
      "metadata": {
        "colab": {
          "base_uri": "https://localhost:8080/"
        },
        "id": "3-mQNoQooUQS",
        "outputId": "067c6a2e-9b36-4b2b-d417-fd9c3a9112a8"
      },
      "execution_count": null,
      "outputs": [
        {
          "output_type": "stream",
          "name": "stdout",
          "text": [
            "I am static\n",
            "Class\n"
          ]
        }
      ]
    }
  ]
}