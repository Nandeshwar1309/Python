{
  "nbformat": 4,
  "nbformat_minor": 0,
  "metadata": {
    "colab": {
      "provenance": [],
      "authorship_tag": "ABX9TyMFWydqAQ3m04RWIQJD6TwY",
      "include_colab_link": true
    },
    "kernelspec": {
      "name": "python3",
      "display_name": "Python 3"
    },
    "language_info": {
      "name": "python"
    }
  },
  "cells": [
    {
      "cell_type": "markdown",
      "metadata": {
        "id": "view-in-github",
        "colab_type": "text"
      },
      "source": [
        "<a href=\"https://colab.research.google.com/github/Nandeshwar1309/Python/blob/main/Python_Basics.ipynb\" target=\"_parent\"><img src=\"https://colab.research.google.com/assets/colab-badge.svg\" alt=\"Open In Colab\"/></a>"
      ]
    },
    {
      "cell_type": "code",
      "execution_count": null,
      "metadata": {
        "colab": {
          "base_uri": "https://localhost:8080/"
        },
        "id": "8GrIaLR4-lVF",
        "outputId": "9063e21f-ac67-4965-f54f-c447e7b41a37"
      },
      "outputs": [
        {
          "output_type": "stream",
          "name": "stdout",
          "text": [
            "Nandeshwar\n"
          ]
        }
      ],
      "source": [
        "# Write a program to print your name.\n",
        "\n",
        "print(\"Nandeshwar\")"
      ]
    },
    {
      "cell_type": "code",
      "source": [
        "# Write a program for a Single line comment and multi-line comments\n",
        "\n",
        "# Single line comment\n",
        "\n",
        "print (\"program for single comment\") # is used for specifying single line comment\n",
        "\n",
        "\"\"\" Multi-line comment\n",
        "    It is specified using triple double or single quotes\"\"\"\n",
        "\n",
        "print (\"program for multi-line comment\")\n",
        "\n",
        "\n"
      ],
      "metadata": {
        "colab": {
          "base_uri": "https://localhost:8080/"
        },
        "id": "HuIPSJPJ-7RO",
        "outputId": "9f300ade-ced0-40e6-d803-228fdd48e4cc"
      },
      "execution_count": null,
      "outputs": [
        {
          "output_type": "stream",
          "name": "stdout",
          "text": [
            "program for single comment\n",
            "program for multi-line comment\n"
          ]
        }
      ]
    },
    {
      "cell_type": "code",
      "source": [
        "# Program for defining variables for different Data Types int, Boolean, char, float, double and print on the console.\n",
        "\n",
        "\n",
        "a = 10\n",
        "\n",
        "b = True\n",
        "\n",
        "c = 'world '\n",
        "\n",
        "d = 3.14\n",
        "\n",
        "e = 3.141592653589793\n",
        "\n",
        "# Printing the types of variables to the console\n",
        "print(\"Type of a:\", type(a))\n",
        "print(\"Type of a:\", type(b))\n",
        "print(\"Type of a:\", type(c))\n",
        "print(\"Type of a:\", type(d))\n",
        "print(\"Type of a:\", type(e))\n"
      ],
      "metadata": {
        "colab": {
          "base_uri": "https://localhost:8080/"
        },
        "id": "RgAGPepMAfZk",
        "outputId": "476328fc-3caf-4288-c726-537434b670f3"
      },
      "execution_count": null,
      "outputs": [
        {
          "output_type": "stream",
          "name": "stdout",
          "text": [
            "Type of a: <class 'int'>\n",
            "Type of a: <class 'bool'>\n",
            "Type of a: <class 'str'>\n",
            "Type of a: <class 'float'>\n",
            "Type of a: <class 'float'>\n"
          ]
        }
      ]
    },
    {
      "cell_type": "code",
      "source": [
        "# Define the local and Global variables with the same name and print both variables and understand the scope of the variables\n",
        "\n",
        "# Global variable\n",
        "value = 100\n",
        "\n",
        "def show_values():\n",
        "    # Local variable with the same name\n",
        "    value = 50\n",
        "    print(\"Local variable is :\", value)\n",
        "\n",
        "show_values()\n",
        "\n",
        "# Print the global variable\n",
        "print(\"Global variable is :\", value)\n"
      ],
      "metadata": {
        "colab": {
          "base_uri": "https://localhost:8080/"
        },
        "id": "AP32wQF4Cc0B",
        "outputId": "2441f3e8-6bf6-49f6-e1b9-2477fe75bc49"
      },
      "execution_count": null,
      "outputs": [
        {
          "output_type": "stream",
          "name": "stdout",
          "text": [
            "Local variable is : 50\n",
            "Global variable is : 100\n"
          ]
        }
      ]
    }
  ]
}