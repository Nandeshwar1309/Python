{
  "nbformat": 4,
  "nbformat_minor": 0,
  "metadata": {
    "colab": {
      "provenance": [],
      "authorship_tag": "ABX9TyMW73hxmE0R+1ApMcOfZPe1",
      "include_colab_link": true
    },
    "kernelspec": {
      "name": "python3",
      "display_name": "Python 3"
    },
    "language_info": {
      "name": "python"
    }
  },
  "cells": [
    {
      "cell_type": "markdown",
      "metadata": {
        "id": "view-in-github",
        "colab_type": "text"
      },
      "source": [
        "<a href=\"https://colab.research.google.com/github/Nandeshwar1309/Python/blob/main/Dictionary.ipynb\" target=\"_parent\"><img src=\"https://colab.research.google.com/assets/colab-badge.svg\" alt=\"Open In Colab\"/></a>"
      ]
    },
    {
      "cell_type": "code",
      "execution_count": 1,
      "metadata": {
        "colab": {
          "base_uri": "https://localhost:8080/"
        },
        "id": "vnM3qCYz5m42",
        "outputId": "16045829-979a-4fa7-9915-13941206eedd"
      },
      "outputs": [
        {
          "output_type": "stream",
          "name": "stdout",
          "text": [
            "{'S001': 'Alice', 'S002': 'Bob', 'S003': 'Charlie', 'S004': 'David', 'S005': 'Eva'}\n"
          ]
        }
      ],
      "source": [
        "# Program to create a Dictionary with at least 5 key-value pairs of Student ID and Name\n",
        "\n",
        "students = {\n",
        "    \"S001\": \"Alice\",\n",
        "    \"S002\": \"Bob\",\n",
        "    \"S003\": \"Charlie\",\n",
        "    \"S004\": \"David\",\n",
        "    \"S005\": \"Eva\"\n",
        "}\n",
        "print(students)"
      ]
    },
    {
      "cell_type": "code",
      "source": [
        "# Program to add the values in dictionary\n",
        "\n",
        "students[\"S006\"] = \"Frank\"\n",
        "students[\"S007\"] = \"Tim\"\n",
        "print(students)"
      ],
      "metadata": {
        "colab": {
          "base_uri": "https://localhost:8080/"
        },
        "id": "Tu0WhX0k54nd",
        "outputId": "01aa5445-ad04-43c2-d61f-e8c90d7136e0"
      },
      "execution_count": 2,
      "outputs": [
        {
          "output_type": "stream",
          "name": "stdout",
          "text": [
            "{'S001': 'Alice', 'S002': 'Bob', 'S003': 'Charlie', 'S004': 'David', 'S005': 'Eva', 'S006': 'Frank', 'S007': 'Tim'}\n"
          ]
        }
      ]
    },
    {
      "cell_type": "code",
      "source": [
        "# Program to update the values in dictionary\n",
        "\n",
        "students[\"S003\"] = \"Chris\"\n",
        "print(students)"
      ],
      "metadata": {
        "colab": {
          "base_uri": "https://localhost:8080/"
        },
        "id": "JZCsUy9z6Jhq",
        "outputId": "9b9f1132-cd64-4155-9d17-f6cd23722203"
      },
      "execution_count": 3,
      "outputs": [
        {
          "output_type": "stream",
          "name": "stdout",
          "text": [
            "{'S001': 'Alice', 'S002': 'Bob', 'S003': 'Chris', 'S004': 'David', 'S005': 'Eva', 'S006': 'Frank', 'S007': 'Tim'}\n"
          ]
        }
      ]
    },
    {
      "cell_type": "code",
      "source": [
        "# Program to access the value in dictionary\n",
        "\n",
        "print(\"Student ID S002 is:\", students[\"S002\"])"
      ],
      "metadata": {
        "colab": {
          "base_uri": "https://localhost:8080/"
        },
        "id": "nw6nxp4v6VeX",
        "outputId": "ab0d5807-7077-4b9f-f911-89a289968e15"
      },
      "execution_count": 4,
      "outputs": [
        {
          "output_type": "stream",
          "name": "stdout",
          "text": [
            "Student ID S002 is: Bob\n"
          ]
        }
      ]
    },
    {
      "cell_type": "code",
      "source": [
        "# Program for create a nested loop dictionary\n",
        "\n",
        "nested_students = {\n",
        "    \"S001\": {\"name\": \"Alice\", \"grade\": \"A\"},\n",
        "    \"S002\": {\"name\": \"Bob\", \"grade\": \"B\"},\n",
        "    \"S003\": {\"name\": \"Charlie\", \"grade\": \"A\"},\n",
        "}\n",
        "print(nested_students)"
      ],
      "metadata": {
        "colab": {
          "base_uri": "https://localhost:8080/"
        },
        "id": "uPw6UI8p6ejQ",
        "outputId": "c5ea381b-1f04-466c-dad4-fc842fe52437"
      },
      "execution_count": 5,
      "outputs": [
        {
          "output_type": "stream",
          "name": "stdout",
          "text": [
            "{'S001': {'name': 'Alice', 'grade': 'A'}, 'S002': {'name': 'Bob', 'grade': 'B'}, 'S003': {'name': 'Charlie', 'grade': 'A'}}\n"
          ]
        }
      ]
    },
    {
      "cell_type": "code",
      "source": [
        "# Program to access the values of nested loop dictionary\n",
        "\n",
        "for student_id, info in nested_students.items():\n",
        "    print(f\"ID: {student_id}, Name: {info['name']}, Grade: {info['grade']}\")"
      ],
      "metadata": {
        "colab": {
          "base_uri": "https://localhost:8080/"
        },
        "id": "K5ZlRKWG6nL0",
        "outputId": "32487aca-1e69-4a45-eeaf-e99ade99fc0b"
      },
      "execution_count": 6,
      "outputs": [
        {
          "output_type": "stream",
          "name": "stdout",
          "text": [
            "ID: S001, Name: Alice, Grade: A\n",
            "ID: S002, Name: Bob, Grade: B\n",
            "ID: S003, Name: Charlie, Grade: A\n"
          ]
        }
      ]
    },
    {
      "cell_type": "code",
      "source": [
        "# Program to print the keys present in a particular dictionary\n",
        "\n",
        "print(\"Keys in students dictionary:\", students.keys())"
      ],
      "metadata": {
        "colab": {
          "base_uri": "https://localhost:8080/"
        },
        "id": "ZGFgEH506v3n",
        "outputId": "9105322f-fdca-42da-9da7-98c26b0b80c6"
      },
      "execution_count": 7,
      "outputs": [
        {
          "output_type": "stream",
          "name": "stdout",
          "text": [
            "Keys in students dictionary: dict_keys(['S001', 'S002', 'S003', 'S004', 'S005', 'S006', 'S007'])\n"
          ]
        }
      ]
    },
    {
      "cell_type": "code",
      "source": [
        "# Program to delete a value from a dictionary\n",
        "\n",
        "del students[\"S004\"]\n",
        "print(students)"
      ],
      "metadata": {
        "colab": {
          "base_uri": "https://localhost:8080/"
        },
        "id": "zVhsuY2Y64nC",
        "outputId": "a5fbd5a3-38f9-4c2d-9a05-0d956bc047e4"
      },
      "execution_count": 8,
      "outputs": [
        {
          "output_type": "stream",
          "name": "stdout",
          "text": [
            "{'S001': 'Alice', 'S002': 'Bob', 'S003': 'Chris', 'S005': 'Eva', 'S006': 'Frank', 'S007': 'Tim'}\n"
          ]
        }
      ]
    }
  ]
}