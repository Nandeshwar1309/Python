{
  "nbformat": 4,
  "nbformat_minor": 0,
  "metadata": {
    "colab": {
      "provenance": [],
      "authorship_tag": "ABX9TyMFyV1EVWjWuLPk49H1nBH4",
      "include_colab_link": true
    },
    "kernelspec": {
      "name": "python3",
      "display_name": "Python 3"
    },
    "language_info": {
      "name": "python"
    }
  },
  "cells": [
    {
      "cell_type": "markdown",
      "metadata": {
        "id": "view-in-github",
        "colab_type": "text"
      },
      "source": [
        "<a href=\"https://colab.research.google.com/github/Nandeshwar1309/Python/blob/main/Abstarctclass.ipynb\" target=\"_parent\"><img src=\"https://colab.research.google.com/assets/colab-badge.svg\" alt=\"Open In Colab\"/></a>"
      ]
    },
    {
      "cell_type": "code",
      "execution_count": 2,
      "metadata": {
        "id": "LvSox3wdVuRg"
      },
      "outputs": [],
      "source": [
        "# Program for creating an abstract class with abstract and non-abstract methods\n",
        "\n",
        "from abc import ABC, abstractmethod\n",
        "\n",
        "class Animal(ABC):\n",
        "    @abstractmethod\n",
        "    def make_sound(self):\n",
        "        pass\n",
        "\n",
        "    def sleep(self):\n",
        "        print(\"Animal is sleeping\")"
      ]
    },
    {
      "cell_type": "code",
      "source": [
        "# Program for creating a sub class for an abstract class\n",
        "\n",
        "class Dog(Animal):\n",
        "    def make_sound(self):\n",
        "        print(\"Dog barks\")\n",
        "\n",
        "d = Dog()\n",
        "d.sleep()"
      ],
      "metadata": {
        "colab": {
          "base_uri": "https://localhost:8080/"
        },
        "id": "1DB4eKjNWVZ-",
        "outputId": "7422c5aa-8044-42e9-d34f-60575be999f0"
      },
      "execution_count": 3,
      "outputs": [
        {
          "output_type": "stream",
          "name": "stdout",
          "text": [
            "Animal is sleeping\n"
          ]
        }
      ]
    },
    {
      "cell_type": "code",
      "source": [
        "# Program for creating an instance for the child class in child class and call abstract methods\n",
        "\n",
        "class Dog(Animal):\n",
        "    def make_sound(self):\n",
        "        print(\"Dog barks\")\n",
        "\n",
        "    def call_abstract_method(self):\n",
        "        self.make_sound()\n",
        "\n",
        "# Instance created in child class to call abstract method\n",
        "dog = Dog()\n",
        "dog.call_abstract_method()"
      ],
      "metadata": {
        "colab": {
          "base_uri": "https://localhost:8080/"
        },
        "id": "Hvyt_dzKWjnU",
        "outputId": "a8c3c6f4-da48-4ceb-b9e5-a148ceddb842"
      },
      "execution_count": 4,
      "outputs": [
        {
          "output_type": "stream",
          "name": "stdout",
          "text": [
            "Dog barks\n"
          ]
        }
      ]
    },
    {
      "cell_type": "code",
      "source": [
        "# Program for creating an instance for the child class in child class and call non-abstract methods\n",
        "\n",
        "class Dog(Animal):\n",
        "    def make_sound(self):\n",
        "        print(\"Dog barks\")\n",
        "\n",
        "    def call_non_abstract_method(self):\n",
        "        self.sleep()\n",
        "\n",
        "dog = Dog()\n",
        "dog.call_non_abstract_method()"
      ],
      "metadata": {
        "colab": {
          "base_uri": "https://localhost:8080/"
        },
        "id": "ldqijv-7W2IQ",
        "outputId": "17b0370f-3119-4cb9-ef85-657adb989524"
      },
      "execution_count": 5,
      "outputs": [
        {
          "output_type": "stream",
          "name": "stdout",
          "text": [
            "Animal is sleeping\n"
          ]
        }
      ]
    }
  ]
}