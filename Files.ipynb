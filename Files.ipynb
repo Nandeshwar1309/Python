{
  "nbformat": 4,
  "nbformat_minor": 0,
  "metadata": {
    "colab": {
      "provenance": [],
      "authorship_tag": "ABX9TyODygM68Nf9cJOPNgnX+c7w",
      "include_colab_link": true
    },
    "kernelspec": {
      "name": "python3",
      "display_name": "Python 3"
    },
    "language_info": {
      "name": "python"
    }
  },
  "cells": [
    {
      "cell_type": "markdown",
      "metadata": {
        "id": "view-in-github",
        "colab_type": "text"
      },
      "source": [
        "<a href=\"https://colab.research.google.com/github/Nandeshwar1309/Python/blob/main/Files.ipynb\" target=\"_parent\"><img src=\"https://colab.research.google.com/assets/colab-badge.svg\" alt=\"Open In Colab\"/></a>"
      ]
    },
    {
      "cell_type": "code",
      "execution_count": 4,
      "metadata": {
        "id": "DOvEzTHqYE3f",
        "colab": {
          "base_uri": "https://localhost:8080/"
        },
        "outputId": "9a1ed0b0-7441-4b89-d479-e95d03d66320"
      },
      "outputs": [
        {
          "output_type": "stream",
          "name": "stdout",
          "text": [
            "hello all, welcome!!!\n"
          ]
        }
      ],
      "source": [
        "# Program to read a text file\n",
        "\n",
        "with open(\"sample.txt\", \"r\") as file:\n",
        "    content = file.read()\n",
        "    print(content)"
      ]
    },
    {
      "cell_type": "code",
      "source": [
        "# Program to write text to .txt file using InputStream\n",
        "\n",
        "text = input(\"Enter some text to write to file: \")\n",
        "with open(\"sample.txt\", \"w\") as file:\n",
        "    file.write(text)\n",
        "print(\"Text written to sample.txt\")"
      ],
      "metadata": {
        "colab": {
          "base_uri": "https://localhost:8080/"
        },
        "id": "BfNa47laZUNK",
        "outputId": "ecc54e45-1900-4def-824b-cfe28863c0c0"
      },
      "execution_count": 6,
      "outputs": [
        {
          "output_type": "stream",
          "name": "stdout",
          "text": [
            "Enter some text to write to file: this is a python program\n",
            "Text written to sample.txt\n"
          ]
        }
      ]
    },
    {
      "cell_type": "code",
      "source": [
        "# Program to read a file stream\n",
        "\n",
        "with open(\"sample.txt\", \"r\") as file:\n",
        "    for line in file:\n",
        "        print(line, end=\"\")"
      ],
      "metadata": {
        "colab": {
          "base_uri": "https://localhost:8080/"
        },
        "id": "uVNABRfMZqEQ",
        "outputId": "4165d613-f8cb-4dd2-9ece-3fbfd56d1a92"
      },
      "execution_count": 7,
      "outputs": [
        {
          "output_type": "stream",
          "name": "stdout",
          "text": [
            "this is a python program"
          ]
        }
      ]
    },
    {
      "cell_type": "code",
      "source": [
        "# Program to read a file stream supports random access\n",
        "\n",
        "with open(\"sample.txt\", \"r\") as file:\n",
        "    file.seek(10)\n",
        "    print(file.read())"
      ],
      "metadata": {
        "colab": {
          "base_uri": "https://localhost:8080/"
        },
        "id": "dHX53xLlZxGs",
        "outputId": "a9da02e2-2b55-4e6d-8e76-2a0d6db615e7"
      },
      "execution_count": 8,
      "outputs": [
        {
          "output_type": "stream",
          "name": "stdout",
          "text": [
            "python program\n"
          ]
        }
      ]
    },
    {
      "cell_type": "code",
      "source": [
        "# Program to read a file a just to a particular index using seek()\n",
        "\n",
        "index = int(input(\"Enter index to seek to: \"))\n",
        "with open(\"sample.txt\", \"r\") as file:\n",
        "    file.seek(index)\n",
        "    print(file.read())"
      ],
      "metadata": {
        "colab": {
          "base_uri": "https://localhost:8080/"
        },
        "id": "pwk7EnYVaAea",
        "outputId": "18762d42-9b08-45e3-b66f-b081a476d572"
      },
      "execution_count": 10,
      "outputs": [
        {
          "output_type": "stream",
          "name": "stdout",
          "text": [
            "Enter index to seek to: 10\n",
            "python program\n"
          ]
        }
      ]
    },
    {
      "cell_type": "code",
      "source": [
        "# Program to check whether a file is having read access and write access permissions\n",
        "\n",
        "import os\n",
        "\n",
        "file_path = \"sample.txt\"\n",
        "\n",
        "can_read = os.access(file_path, os.R_OK)\n",
        "can_write = os.access(file_path, os.W_OK)\n",
        "\n",
        "print(f\"Read Access: {can_read}\")\n",
        "print(f\"Write Access: {can_write}\")"
      ],
      "metadata": {
        "colab": {
          "base_uri": "https://localhost:8080/"
        },
        "id": "wP-QkDNpaLef",
        "outputId": "8bde3c9d-b447-4ce8-9649-9064f81924b4"
      },
      "execution_count": 11,
      "outputs": [
        {
          "output_type": "stream",
          "name": "stdout",
          "text": [
            "Read Access: True\n",
            "Write Access: True\n"
          ]
        }
      ]
    }
  ]
}