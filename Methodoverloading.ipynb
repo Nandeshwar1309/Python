{
  "nbformat": 4,
  "nbformat_minor": 0,
  "metadata": {
    "colab": {
      "provenance": [],
      "authorship_tag": "ABX9TyPZX+4RWZfEGJQP0g24dUpX",
      "include_colab_link": true
    },
    "kernelspec": {
      "name": "python3",
      "display_name": "Python 3"
    },
    "language_info": {
      "name": "python"
    }
  },
  "cells": [
    {
      "cell_type": "markdown",
      "metadata": {
        "id": "view-in-github",
        "colab_type": "text"
      },
      "source": [
        "<a href=\"https://colab.research.google.com/github/Nandeshwar1309/Python/blob/main/Methodoverloading.ipynb\" target=\"_parent\"><img src=\"https://colab.research.google.com/assets/colab-badge.svg\" alt=\"Open In Colab\"/></a>"
      ]
    },
    {
      "cell_type": "code",
      "execution_count": 1,
      "metadata": {
        "colab": {
          "base_uri": "https://localhost:8080/"
        },
        "id": "D-jZ4h90spCz",
        "outputId": "94afb8e0-d417-423e-cbf0-ca4ea0a2fec1"
      },
      "outputs": [
        {
          "output_type": "stream",
          "name": "stdout",
          "text": [
            "One argument: 5\n",
            "Two arguments: 15\n"
          ]
        }
      ],
      "source": [
        "# Program for two methods with the same name but different number of parameters of same type and call the methods\n",
        "\n",
        "class OverloadExample:\n",
        "    def add(self, a, b=None):\n",
        "        if b is not None:\n",
        "            print(\"Two arguments:\", a + b)\n",
        "        else:\n",
        "            print(\"One argument:\", a)\n",
        "\n",
        "obj = OverloadExample()\n",
        "obj.add(5)\n",
        "obj.add(5, 10)"
      ]
    },
    {
      "cell_type": "code",
      "source": [
        "# Program for two methods with the same name but different number of parameters of different data type and call the methods\n",
        "\n",
        "class OverloadExample:\n",
        "    def display(self, a, b=None):\n",
        "        if b is None:\n",
        "            print(\"Single argument:\", a)\n",
        "        elif isinstance(a, int) and isinstance(b, str):\n",
        "            print(f\"Int and String: {a}, {b}\")\n",
        "        elif isinstance(a, str) and isinstance(b, int):\n",
        "            print(f\"String and Int: {a}, {b}\")\n",
        "        else:\n",
        "            print(\"Unknown types\")\n",
        "\n",
        "obj = OverloadExample()\n",
        "obj.display(10)\n",
        "obj.display(10, \"Hello\")\n",
        "obj.display(\"Hi\", 20)"
      ],
      "metadata": {
        "colab": {
          "base_uri": "https://localhost:8080/"
        },
        "id": "YKQFPiqgtQEm",
        "outputId": "5959f5e8-eac6-41a8-dec9-2b70d0e32547"
      },
      "execution_count": 2,
      "outputs": [
        {
          "output_type": "stream",
          "name": "stdout",
          "text": [
            "Single argument: 10\n",
            "Int and String: 10, Hello\n",
            "String and Int: Hi, 20\n"
          ]
        }
      ]
    },
    {
      "cell_type": "code",
      "source": [
        "# Program for two methods with the same name and same number of parameters of same type\n",
        "\n",
        "class OverloadExample:\n",
        "    def show(self, a, b):\n",
        "        if a == b:\n",
        "            print(\"Both values are equal:\", a)\n",
        "        else:\n",
        "            print(\"Different values:\", a, b)\n",
        "\n",
        "obj = OverloadExample()\n",
        "obj.show(10, 10)\n",
        "obj.show(5, 8)"
      ],
      "metadata": {
        "colab": {
          "base_uri": "https://localhost:8080/"
        },
        "id": "50Vp9HobteHi",
        "outputId": "12192c9a-a90a-48ef-8c86-65c0966e89ee"
      },
      "execution_count": 3,
      "outputs": [
        {
          "output_type": "stream",
          "name": "stdout",
          "text": [
            "Both values are equal: 10\n",
            "Different values: 5 8\n"
          ]
        }
      ]
    }
  ]
}