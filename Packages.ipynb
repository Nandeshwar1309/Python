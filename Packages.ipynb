{
  "nbformat": 4,
  "nbformat_minor": 0,
  "metadata": {
    "colab": {
      "provenance": [],
      "authorship_tag": "ABX9TyO/S1aoF4ZDcOUKHbFBeXJr",
      "include_colab_link": true
    },
    "kernelspec": {
      "name": "python3",
      "display_name": "Python 3"
    },
    "language_info": {
      "name": "python"
    }
  },
  "cells": [
    {
      "cell_type": "markdown",
      "metadata": {
        "id": "view-in-github",
        "colab_type": "text"
      },
      "source": [
        "<a href=\"https://colab.research.google.com/github/Nandeshwar1309/Python/blob/main/Packages.ipynb\" target=\"_parent\"><img src=\"https://colab.research.google.com/assets/colab-badge.svg\" alt=\"Open In Colab\"/></a>"
      ]
    },
    {
      "cell_type": "code",
      "execution_count": 2,
      "metadata": {
        "colab": {
          "base_uri": "https://localhost:8080/"
        },
        "id": "syo1ArLgXPE0",
        "outputId": "a4b98573-ab3b-46b9-cbe8-249ef995705e"
      },
      "outputs": [
        {
          "output_type": "stream",
          "name": "stdout",
          "text": [
            "ClassOne Constructor Called\n",
            "Hello from ClassOne!\n",
            "ClassTwo Constructor Called\n",
            "Hello from ClassTwo!\n"
          ]
        }
      ],
      "source": [
        "class ClassOne:\n",
        "    def __init__(self):\n",
        "        print(\"ClassOne Constructor Called\")\n",
        "\n",
        "    def greet(self):\n",
        "        print(\"Hello from ClassOne!\")\n",
        "\n",
        "class ClassTwo:\n",
        "    def __init__(self):\n",
        "        print(\"ClassTwo Constructor Called\")\n",
        "\n",
        "    def greet(self):\n",
        "        print(\"Hello from ClassTwo!\")\n",
        "# This file makes 'my_package' a package.\n",
        "\n",
        "\"\"\"from my_package.class_one import ClassOne\n",
        "from my_package.class_two import ClassTwo\"\"\"\n",
        "\n",
        "# Create objects and call methods\n",
        "obj1 = ClassOne()\n",
        "obj1.greet()\n",
        "\n",
        "obj2 = ClassTwo()\n",
        "obj2.greet()"
      ]
    }
  ]
}