{
  "nbformat": 4,
  "nbformat_minor": 0,
  "metadata": {
    "colab": {
      "provenance": [],
      "authorship_tag": "ABX9TyNsVKjxp/ip5AY4dudlcmfi",
      "include_colab_link": true
    },
    "kernelspec": {
      "name": "python3",
      "display_name": "Python 3"
    },
    "language_info": {
      "name": "python"
    }
  },
  "cells": [
    {
      "cell_type": "markdown",
      "metadata": {
        "id": "view-in-github",
        "colab_type": "text"
      },
      "source": [
        "<a href=\"https://colab.research.google.com/github/Nandeshwar1309/Python/blob/main/AccessModifiers.ipynb\" target=\"_parent\"><img src=\"https://colab.research.google.com/assets/colab-badge.svg\" alt=\"Open In Colab\"/></a>"
      ]
    },
    {
      "cell_type": "code",
      "execution_count": 2,
      "metadata": {
        "colab": {
          "base_uri": "https://localhost:8080/"
        },
        "id": "NkM3ak7yTy98",
        "outputId": "f3aed077-ee57-4b8e-9d53-a68e6e818797"
      },
      "outputs": [
        {
          "output_type": "stream",
          "name": "stdout",
          "text": [
            "Accessing within the class:\n",
            "Private Field\n",
            "This is a private method.\n",
            "Trying to access private members from subclass:\n",
            "Cannot access __private_field\n",
            "Cannot call __private_method\n"
          ]
        }
      ],
      "source": [
        "# Program for creating a class with PRIVATE fields, private method and a main method\n",
        "\n",
        "class MyClass:\n",
        "    def __init__(self):\n",
        "        self.__private_field = \"Private Field\"\n",
        "\n",
        "    def __private_method(self):\n",
        "        print(\"This is a private method.\")\n",
        "\n",
        "    def main(self):\n",
        "        print(\"Accessing within the class:\")\n",
        "        print(self.__private_field)\n",
        "        self.__private_method()\n",
        "\n",
        "class SubClass(MyClass):\n",
        "    def try_access_private(self):\n",
        "        print(\"Trying to access private members from subclass:\")\n",
        "        try:\n",
        "            print(self.__private_field)\n",
        "        except AttributeError:\n",
        "            print(\"Cannot access __private_field\")\n",
        "\n",
        "        try:\n",
        "            self.__private_method()\n",
        "        except AttributeError:\n",
        "            print(\"Cannot call __private_method\")\n",
        "\n",
        "obj = MyClass()\n",
        "obj.main()\n",
        "\n",
        "sub_obj = SubClass()\n",
        "sub_obj.try_access_private()"
      ]
    },
    {
      "cell_type": "code",
      "source": [
        "# Program for creating a class with PROTECTED fields and methods\n",
        "\n",
        "# Same package\n",
        "\n",
        "class ProtectedClass:\n",
        "    def __init__(self):\n",
        "        self._protected_field = \"Protected Field\"\n",
        "\n",
        "    def _protected_method(self):\n",
        "        print(\"This is a protected method.\")\n",
        "\n",
        "obj = ProtectedClass()\n",
        "print(obj._protected_field)\n",
        "obj._protected_method()"
      ],
      "metadata": {
        "colab": {
          "base_uri": "https://localhost:8080/"
        },
        "id": "DpuEEMYqUrMI",
        "outputId": "5268162e-e8d2-4f07-d0a9-533d3631d49f"
      },
      "execution_count": 3,
      "outputs": [
        {
          "output_type": "stream",
          "name": "stdout",
          "text": [
            "Protected Field\n",
            "This is a protected method.\n"
          ]
        }
      ]
    },
    {
      "cell_type": "code",
      "source": [
        "# different package\n",
        "\n",
        "class ChildClass(ProtectedClass):\n",
        "    def access_protected(self):\n",
        "        print(\"Accessing protected members from child class in different package:\")\n",
        "        print(self._protected_field)\n",
        "        self._protected_method()\n",
        "\n",
        "child = ChildClass()\n",
        "child.access_protected()"
      ],
      "metadata": {
        "colab": {
          "base_uri": "https://localhost:8080/"
        },
        "id": "6ojSxbzHU6BC",
        "outputId": "fd59b3e1-c8f5-44f9-d9a7-3a443a91b111"
      },
      "execution_count": 6,
      "outputs": [
        {
          "output_type": "stream",
          "name": "stdout",
          "text": [
            "Accessing protected members from child class in different package:\n",
            "Protected Field\n",
            "This is a protected method.\n"
          ]
        }
      ]
    },
    {
      "cell_type": "code",
      "source": [
        "# Program for creating a class with PUBLIC fields and methods.\n",
        "\n",
        "class PublicClass:\n",
        "    def __init__(self):\n",
        "        self.public_field = \"Public Field\"\n",
        "\n",
        "    def public_method(self):\n",
        "        print(\"This is a public method.\")\n",
        "\n",
        "obj1 = PublicClass()\n",
        "print(obj1.public_field)\n",
        "obj1.public_method()\n",
        "\n",
        "obj2 = PublicClass()\n",
        "print(obj2.public_field)\n",
        "obj2.public_method()"
      ],
      "metadata": {
        "colab": {
          "base_uri": "https://localhost:8080/"
        },
        "id": "e8FaL027VLvs",
        "outputId": "64afcdb8-1983-403b-d457-dd54e684cefc"
      },
      "execution_count": 9,
      "outputs": [
        {
          "output_type": "stream",
          "name": "stdout",
          "text": [
            "Public Field\n",
            "This is a public method.\n",
            "Public Field\n",
            "This is a public method.\n"
          ]
        }
      ]
    }
  ]
}