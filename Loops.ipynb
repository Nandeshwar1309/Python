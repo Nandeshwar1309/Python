{
  "nbformat": 4,
  "nbformat_minor": 0,
  "metadata": {
    "colab": {
      "provenance": [],
      "authorship_tag": "ABX9TyObHw+E8t8UaMVzQ1fke2Dc",
      "include_colab_link": true
    },
    "kernelspec": {
      "name": "python3",
      "display_name": "Python 3"
    },
    "language_info": {
      "name": "python"
    }
  },
  "cells": [
    {
      "cell_type": "markdown",
      "metadata": {
        "id": "view-in-github",
        "colab_type": "text"
      },
      "source": [
        "<a href=\"https://colab.research.google.com/github/Nandeshwar1309/Python/blob/main/Loops.ipynb\" target=\"_parent\"><img src=\"https://colab.research.google.com/assets/colab-badge.svg\" alt=\"Open In Colab\"/></a>"
      ]
    },
    {
      "cell_type": "code",
      "execution_count": null,
      "metadata": {
        "colab": {
          "base_uri": "https://localhost:8080/"
        },
        "id": "YBOwr2sHoaFd",
        "outputId": "3078a011-a3a2-4ba6-bdb1-0add62fff426"
      },
      "outputs": [
        {
          "output_type": "stream",
          "name": "stdout",
          "text": [
            "Bright IT Career\n",
            "Bright IT Career\n",
            "Bright IT Career\n",
            "Bright IT Career\n",
            "Bright IT Career\n",
            "Bright IT Career\n",
            "Bright IT Career\n",
            "Bright IT Career\n",
            "Bright IT Career\n",
            "Bright IT Career\n"
          ]
        }
      ],
      "source": [
        "# program to print “Bright IT Career” ten times using for loop\n",
        "\n",
        "for i in range(10):\n",
        "    print(\"Bright IT Career\")"
      ]
    },
    {
      "cell_type": "code",
      "source": [
        "# program to print 1 to 20 numbers using the while loop.\n",
        "\n",
        "count = 0\n",
        "\n",
        "while count < 20:\n",
        "    count += 1\n",
        "    print(count)"
      ],
      "metadata": {
        "colab": {
          "base_uri": "https://localhost:8080/"
        },
        "id": "N2LeXwW3pXq-",
        "outputId": "d4f6fab9-6a75-4812-bf3a-12ce9bb699c0"
      },
      "execution_count": null,
      "outputs": [
        {
          "output_type": "stream",
          "name": "stdout",
          "text": [
            "1\n",
            "2\n",
            "3\n",
            "4\n",
            "5\n",
            "6\n",
            "7\n",
            "8\n",
            "9\n",
            "10\n",
            "11\n",
            "12\n",
            "13\n",
            "14\n",
            "15\n",
            "16\n",
            "17\n",
            "18\n",
            "19\n",
            "20\n"
          ]
        }
      ]
    },
    {
      "cell_type": "code",
      "source": [
        "# Program to equal operator and not equal operators.\n",
        "\n",
        "a = input(\"Enter the value of a: \")\n",
        "b = input(\"Enter the value of b: \")\n",
        "\n",
        "print(a == b)\n",
        "print(a != b)"
      ],
      "metadata": {
        "colab": {
          "base_uri": "https://localhost:8080/"
        },
        "id": "zeYSgc9pqRjZ",
        "outputId": "22d9231d-5a63-4b49-ed6b-058d13c1ea78"
      },
      "execution_count": null,
      "outputs": [
        {
          "output_type": "stream",
          "name": "stdout",
          "text": [
            "Enter the value of a: 3\n",
            "Enter the value of b: 3\n",
            "True\n",
            "False\n"
          ]
        }
      ]
    },
    {
      "cell_type": "code",
      "source": [
        "# program to print the odd and even numbers.\n",
        "\n",
        "limit = 25\n",
        "\n",
        "print(\"Even numbers:\")\n",
        "for num in range(1, limit + 1):\n",
        "    if num % 2 == 0:\n",
        "        print(num, end=' ')\n",
        "\n",
        "print(\"\\nOdd numbers:\")\n",
        "for num in range(1, limit + 1):\n",
        "    if num % 2 != 0:\n",
        "        print(num, end=' ')"
      ],
      "metadata": {
        "colab": {
          "base_uri": "https://localhost:8080/"
        },
        "id": "zNtbM2H-q74X",
        "outputId": "20afa6bb-470f-403b-fd46-6395221cd3c9"
      },
      "execution_count": null,
      "outputs": [
        {
          "output_type": "stream",
          "name": "stdout",
          "text": [
            "Even numbers:\n",
            "2 4 6 8 10 12 14 16 18 20 22 24 \n",
            "Odd numbers:\n",
            "1 3 5 7 9 11 13 15 17 19 21 23 25 "
          ]
        }
      ]
    },
    {
      "cell_type": "code",
      "source": [
        "# program to print largest number among three numbers.\n",
        "\n",
        "a = input(\"Enter the value of a: \")\n",
        "b = input(\"Enter the value of b: \")\n",
        "c = input(\"Enter the value of c: \")\n",
        "\n",
        "if (a > b) and (a > c):\n",
        "    print(\"a is the largest number\")\n",
        "\n",
        "elif (b > a) and (b > c):\n",
        "    print(\"b is the largest number\")\n",
        "\n",
        "else:\n",
        "    print(\"c is the largest number\")"
      ],
      "metadata": {
        "colab": {
          "base_uri": "https://localhost:8080/"
        },
        "id": "zVd3Eon-rccr",
        "outputId": "c57c6e3d-5221-47d5-cbca-cffd925f9edb"
      },
      "execution_count": null,
      "outputs": [
        {
          "output_type": "stream",
          "name": "stdout",
          "text": [
            "Enter the value of a: 5\n",
            "Enter the value of b: 4\n",
            "Enter the value of c: 8\n",
            "c is the largest number\n"
          ]
        }
      ]
    },
    {
      "cell_type": "code",
      "source": [
        "# program to print even number between 10 and 20 using while loop\n",
        "\n",
        "num = 10\n",
        "\n",
        "while num <= 20:\n",
        "    if num % 2 == 0:\n",
        "        print(num)\n",
        "    num += 1"
      ],
      "metadata": {
        "colab": {
          "base_uri": "https://localhost:8080/"
        },
        "id": "3DiOmpifsCWJ",
        "outputId": "2d08418e-8492-4b57-c11a-fa11a01df5cf"
      },
      "execution_count": null,
      "outputs": [
        {
          "output_type": "stream",
          "name": "stdout",
          "text": [
            "10\n",
            "12\n",
            "14\n",
            "16\n",
            "18\n",
            "20\n"
          ]
        }
      ]
    },
    {
      "cell_type": "code",
      "source": [
        "# program to print 1 to 10 using the do-while loop statement.\n",
        "\n",
        "num = 1\n",
        "\n",
        "while True:\n",
        "    print(num)\n",
        "    num += 1\n",
        "    if num > 10:\n",
        "        break"
      ],
      "metadata": {
        "colab": {
          "base_uri": "https://localhost:8080/"
        },
        "id": "d-f3Cnp_sZJ1",
        "outputId": "dc798f57-cd24-41e7-ce60-ca7280b1b32c"
      },
      "execution_count": null,
      "outputs": [
        {
          "output_type": "stream",
          "name": "stdout",
          "text": [
            "1\n",
            "2\n",
            "3\n",
            "4\n",
            "5\n",
            "6\n",
            "7\n",
            "8\n",
            "9\n",
            "10\n"
          ]
        }
      ]
    },
    {
      "cell_type": "code",
      "source": [
        "# program to find Armstrong number or not\n",
        "\n",
        "num = int(input(\"Enter a number: \"))\n",
        "order = len(str(num))\n",
        "sum_of_powers = 0\n",
        "temp = num\n",
        "\n",
        "while temp > 0:\n",
        "    digit = temp % 10\n",
        "    sum_of_powers += digit ** order\n",
        "    temp //= 10\n",
        "\n",
        "if sum_of_powers == num:\n",
        "    print(num, \"is an Armstrong number\")\n",
        "else:\n",
        "    print(num, \"is not an Armstrong number\")"
      ],
      "metadata": {
        "colab": {
          "base_uri": "https://localhost:8080/"
        },
        "id": "suH5oHs_tBYP",
        "outputId": "e5380a26-c7a7-4c71-e629-1804ec59974b"
      },
      "execution_count": null,
      "outputs": [
        {
          "output_type": "stream",
          "name": "stdout",
          "text": [
            "Enter a number: 156\n",
            "156 is not an Armstrong number\n"
          ]
        }
      ]
    },
    {
      "cell_type": "code",
      "source": [
        "# program to find the prime or not\n",
        "\n",
        "num = int(input(\"Enter a number: \"))\n",
        "\n",
        "if num <= 1:\n",
        "    print(num, \"is not a prime number\")\n",
        "else:\n",
        "    for i in range(2, int(num ** 0.5) + 1):\n",
        "        if num % i == 0:\n",
        "            is_prime = False\n",
        "            break\n",
        "        print(num, \"is a prime number\")"
      ],
      "metadata": {
        "colab": {
          "base_uri": "https://localhost:8080/"
        },
        "id": "DiDp9YLVtoxN",
        "outputId": "5b7e285c-bc42-4e85-f840-dd76af099be3"
      },
      "execution_count": null,
      "outputs": [
        {
          "output_type": "stream",
          "name": "stdout",
          "text": [
            "Enter a number: 5\n",
            "5 is a prime number\n"
          ]
        }
      ]
    },
    {
      "cell_type": "code",
      "source": [
        "# Program to palindrome or not.\n",
        "\n",
        "num = int(input(\"Enter a number: \"))\n",
        "original = num\n",
        "reverse = 0\n",
        "\n",
        "while num > 0:\n",
        "    digit = num % 10\n",
        "    reverse = reverse * 10 + digit\n",
        "    num = num // 10\n",
        "\n",
        "if original == reverse:\n",
        "    print(original, \"is a palindrome\")\n",
        "else:\n",
        "    print(original, \"is not a palindrome\")"
      ],
      "metadata": {
        "colab": {
          "base_uri": "https://localhost:8080/"
        },
        "id": "iF2z3noRVEfR",
        "outputId": "6b7589ed-2b52-45ba-8358-b1ad7f9eb15c"
      },
      "execution_count": null,
      "outputs": [
        {
          "output_type": "stream",
          "name": "stdout",
          "text": [
            "Enter a number: 110\n",
            "110 is not a palindrome\n"
          ]
        }
      ]
    },
    {
      "cell_type": "code",
      "source": [
        "# Program to check whether a number is EVEN or ODD\n",
        "\n",
        "a = int (input (\"Enter a number: \"))\n",
        "if (a % 2) == 0:\n",
        "    print (\"The number is even\")\n",
        "else:\n",
        "    print (\"The number is odd\")"
      ],
      "metadata": {
        "colab": {
          "base_uri": "https://localhost:8080/"
        },
        "id": "UfgkS7lcV7Y4",
        "outputId": "91170128-6b53-4818-c1b1-f64e8d5de12d"
      },
      "execution_count": null,
      "outputs": [
        {
          "output_type": "stream",
          "name": "stdout",
          "text": [
            "Enter a number: 15\n",
            "The number is odd\n"
          ]
        }
      ]
    }
  ]
}