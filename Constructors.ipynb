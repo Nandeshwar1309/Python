{
  "nbformat": 4,
  "nbformat_minor": 0,
  "metadata": {
    "colab": {
      "provenance": [],
      "authorship_tag": "ABX9TyMC8OKQZ4nCPtpVWxS8op6i",
      "include_colab_link": true
    },
    "kernelspec": {
      "name": "python3",
      "display_name": "Python 3"
    },
    "language_info": {
      "name": "python"
    }
  },
  "cells": [
    {
      "cell_type": "markdown",
      "metadata": {
        "id": "view-in-github",
        "colab_type": "text"
      },
      "source": [
        "<a href=\"https://colab.research.google.com/github/Nandeshwar1309/Python/blob/main/Constructors.ipynb\" target=\"_parent\"><img src=\"https://colab.research.google.com/assets/colab-badge.svg\" alt=\"Open In Colab\"/></a>"
      ]
    },
    {
      "cell_type": "code",
      "execution_count": 1,
      "metadata": {
        "colab": {
          "base_uri": "https://localhost:8080/"
        },
        "id": "rZDuWY54ahPz",
        "outputId": "b44887fd-3ff8-455d-d743-71ffbfe5af54"
      },
      "outputs": [
        {
          "output_type": "stream",
          "name": "stdout",
          "text": [
            "Default constructor called\n",
            "One argument constructor called with a = 10\n",
            "Two argument constructor called with a = 10, b = 20\n"
          ]
        }
      ],
      "source": [
        "# Program for class with Default, One Argument, and Two Argument Constructors\n",
        "\n",
        "class MyClass:\n",
        "    def __init__(self, a=None, b=None):\n",
        "        if a is None and b is None:\n",
        "            print(\"Default constructor called\")\n",
        "        elif b is None:\n",
        "            print(f\"One argument constructor called with a = {a}\")\n",
        "        else:\n",
        "            print(f\"Two argument constructor called with a = {a}, b = {b}\")\n",
        "\n",
        "if __name__ == \"__main__\":\n",
        "    obj1 = MyClass()\n",
        "    obj2 = MyClass(10)\n",
        "    obj3 = MyClass(10, 20)"
      ]
    },
    {
      "cell_type": "code",
      "source": [
        "# Program for calling Superclass Constructors from a Child Class\n",
        "\n",
        "class Parent:\n",
        "    def __init__(self, x=None):\n",
        "        if x is None:\n",
        "            print(\"Parent default constructor\")\n",
        "        else:\n",
        "            print(f\"Parent argument constructor with x = {x}\")\n",
        "\n",
        "class Child(Parent):\n",
        "    def __init__(self, x=None):\n",
        "        if x is None:\n",
        "            super().__init__()  # Calls parent default constructor\n",
        "            print(\"Child default constructor\")\n",
        "        else:\n",
        "            super().__init__(x)  # Calls parent argument constructor\n",
        "            print(f\"Child argument constructor with x = {x}\")\n",
        "\n",
        "if __name__ == \"__main__\":\n",
        "    c1 = Child()\n",
        "    c2 = Child(50)"
      ],
      "metadata": {
        "colab": {
          "base_uri": "https://localhost:8080/"
        },
        "id": "8wX18Y81bF8i",
        "outputId": "1151eee4-d5a9-409a-b2a3-5006813c53db"
      },
      "execution_count": 2,
      "outputs": [
        {
          "output_type": "stream",
          "name": "stdout",
          "text": [
            "Parent default constructor\n",
            "Child default constructor\n",
            "Parent argument constructor with x = 50\n",
            "Child argument constructor with x = 50\n"
          ]
        }
      ]
    },
    {
      "cell_type": "code",
      "source": [
        "# Program for applying private, public, protected and default access modifiers to the constructor\n",
        "\n",
        "class AccessModifiers:\n",
        "    def __init__(self):\n",
        "        print(\"Public constructor\")\n",
        "\n",
        "    def _protected_constructor(self):\n",
        "        print(\"Protected constructor\")\n",
        "\n",
        "    def __private_constructor(self):\n",
        "        print(\"Private constructor\")\n",
        "\n",
        "    def default_constructor(self):\n",
        "        print(\"Default constructor (Python default)\")\n",
        "\n",
        "if __name__ == \"__main__\":\n",
        "    obj = AccessModifiers()\n",
        "    obj._protected_constructor()\n",
        "    obj._AccessModifiers__private_constructor()\n",
        "    obj.default_constructor()"
      ],
      "metadata": {
        "colab": {
          "base_uri": "https://localhost:8080/"
        },
        "id": "s7Q6UVmfbQpj",
        "outputId": "a918f2cf-a2e5-4ad7-e8f3-60d3e9f74591"
      },
      "execution_count": 3,
      "outputs": [
        {
          "output_type": "stream",
          "name": "stdout",
          "text": [
            "Public constructor\n",
            "Protected constructor\n",
            "Private constructor\n",
            "Default constructor (Python default)\n"
          ]
        }
      ]
    },
    {
      "cell_type": "code",
      "source": [
        "# Program for illustrating the concept of attributes of a constructor\n",
        "\n",
        "class Student:\n",
        "    def __init__(self, name, age):\n",
        "        self.name = name\n",
        "        self.age = age\n",
        "        print(f\"Constructor called with name: {self.name}, age: {self.age}\")\n",
        "\n",
        "    def display(self):\n",
        "        print(f\"Name: {self.name}, Age: {self.age}\")\n",
        "\n",
        "if __name__ == \"__main__\":\n",
        "    s1 = Student(\"Alice\", 22)\n",
        "    s1.display()"
      ],
      "metadata": {
        "colab": {
          "base_uri": "https://localhost:8080/"
        },
        "id": "ZT357Dt2bj4V",
        "outputId": "63410df8-e52b-4730-b0ee-314a789549b5"
      },
      "execution_count": 4,
      "outputs": [
        {
          "output_type": "stream",
          "name": "stdout",
          "text": [
            "Constructor called with name: Alice, age: 22\n",
            "Name: Alice, Age: 22\n"
          ]
        }
      ]
    }
  ]
}