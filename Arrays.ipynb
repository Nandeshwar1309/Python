{
  "nbformat": 4,
  "nbformat_minor": 0,
  "metadata": {
    "colab": {
      "provenance": [],
      "authorship_tag": "ABX9TyPAedxP6mzzKI1n6C5nObuT",
      "include_colab_link": true
    },
    "kernelspec": {
      "name": "python3",
      "display_name": "Python 3"
    },
    "language_info": {
      "name": "python"
    }
  },
  "cells": [
    {
      "cell_type": "markdown",
      "metadata": {
        "id": "view-in-github",
        "colab_type": "text"
      },
      "source": [
        "<a href=\"https://colab.research.google.com/github/Nandeshwar1309/Python/blob/main/Arrays.ipynb\" target=\"_parent\"><img src=\"https://colab.research.google.com/assets/colab-badge.svg\" alt=\"Open In Colab\"/></a>"
      ]
    },
    {
      "cell_type": "code",
      "execution_count": null,
      "metadata": {
        "colab": {
          "base_uri": "https://localhost:8080/"
        },
        "id": "ExEUd7WJXo_x",
        "outputId": "cc46fa53-0a41-475a-afc4-41f7e3d36653"
      },
      "outputs": [
        {
          "output_type": "stream",
          "name": "stdout",
          "text": [
            "Sum of array elements: 150\n"
          ]
        }
      ],
      "source": [
        "# Program to add integer values of an array\n",
        "def add_integers(arr):\n",
        "    total = 0\n",
        "    for num in arr:\n",
        "        total += num\n",
        "    return total\n",
        "array = [10, 20, 30, 40, 50]\n",
        "sum = add_integers(array)\n",
        "print(\"Sum of array elements:\", sum)"
      ]
    },
    {
      "cell_type": "code",
      "source": [
        "# Program to find the index of an array element\n",
        "\n",
        "arr = [5, 10, 15, 20, 25]\n",
        "\n",
        "element = int(input(\"Enter the element to find: \"))\n",
        "\n",
        "if element in arr:\n",
        "    index = arr.index(element)\n",
        "    print(f\"Element {element} is at index {index}\")\n",
        "else:\n",
        "    print(f\"Element {element} not found in the array\")"
      ],
      "metadata": {
        "colab": {
          "base_uri": "https://localhost:8080/"
        },
        "id": "KEIjWWENYVI_",
        "outputId": "29aec2e3-7fd9-4dd9-ede5-1e27c70d4a02"
      },
      "execution_count": null,
      "outputs": [
        {
          "output_type": "stream",
          "name": "stdout",
          "text": [
            "Enter the element to find: 15\n",
            "Element 15 is at index 2\n"
          ]
        }
      ]
    },
    {
      "cell_type": "code",
      "source": [
        "# Program to test if array contains a specific value\n",
        "\n",
        "def contains_value(arr, value):\n",
        "    return value in arr\n",
        "\n",
        "array = [10, 20, 30, 40, 50]\n",
        "value = int(input(\"Enter a value to search: \"))\n",
        "\n",
        "if contains_value(array, value):\n",
        "    print(f\"The array contains the value {value}.\")\n",
        "else:\n",
        "    print(f\"The array does not contain the value {value}.\")"
      ],
      "metadata": {
        "colab": {
          "base_uri": "https://localhost:8080/"
        },
        "id": "8JWZJ1XVdmVH",
        "outputId": "79ad306e-4188-47cc-91f1-7112b3d361de"
      },
      "execution_count": null,
      "outputs": [
        {
          "output_type": "stream",
          "name": "stdout",
          "text": [
            "Enter a value to search: 20\n",
            "The array contains the value 20.\n"
          ]
        }
      ]
    },
    {
      "cell_type": "code",
      "source": [
        "# Program to remove a specific element from an array\n",
        "\n",
        "arr = [10, 20, 30, 40, 50]\n",
        "\n",
        "element = int(input(\"Enter the element to remove: \"))\n",
        "\n",
        "if element in arr:\n",
        "    arr.remove(element)\n",
        "    print(f\"{element} removed. Updated array:\", arr)\n",
        "else:\n",
        "    print(f\"{element} not found in the array.\")"
      ],
      "metadata": {
        "colab": {
          "base_uri": "https://localhost:8080/"
        },
        "id": "Q17-pHb6fKwV",
        "outputId": "add4c7b7-aaf3-4590-9dc4-cd6233745243"
      },
      "execution_count": null,
      "outputs": [
        {
          "output_type": "stream",
          "name": "stdout",
          "text": [
            "Enter the element to remove: 10\n",
            "10 removed. Updated array: [20, 30, 40, 50]\n"
          ]
        }
      ]
    },
    {
      "cell_type": "code",
      "source": [
        "# Program to copy an array to another array\n",
        "\n",
        "original_array = [1, 2, 3, 4, 5]\n",
        "\n",
        "copied_array = original_array.copy()\n",
        "\n",
        "print(\"Original array:\", original_array)\n",
        "print(\"Copied array:\", copied_array)"
      ],
      "metadata": {
        "colab": {
          "base_uri": "https://localhost:8080/"
        },
        "id": "-vaLf1yohHaQ",
        "outputId": "34c1265c-6b73-40fd-d62c-33d9db457a58"
      },
      "execution_count": null,
      "outputs": [
        {
          "output_type": "stream",
          "name": "stdout",
          "text": [
            "Original array: [1, 2, 3, 4, 5]\n",
            "Copied array: [1, 2, 3, 4, 5]\n"
          ]
        }
      ]
    },
    {
      "cell_type": "code",
      "source": [
        "# Program to insert an element at a specific position in the array\n",
        "\n",
        "arr = [10, 20, 30, 40, 50]\n",
        "\n",
        "element = int(input(\"Enter the element to insert: \"))\n",
        "\n",
        "position = int(input(\"Enter the position (index) to insert at: \"))\n",
        "\n",
        "if 0 <= position <= len(arr):\n",
        "    arr.insert(position, element)\n",
        "    print(\"Updated array:\", arr)\n",
        "else:\n",
        "    print(\"Invalid position!\")"
      ],
      "metadata": {
        "colab": {
          "base_uri": "https://localhost:8080/"
        },
        "id": "4Otv6i9mhdPe",
        "outputId": "a13ade67-bc23-463a-a8a5-18151173ff50"
      },
      "execution_count": null,
      "outputs": [
        {
          "output_type": "stream",
          "name": "stdout",
          "text": [
            "Enter the element to insert: 25\n",
            "Enter the position (index) to insert at: 2\n",
            "Updated array: [10, 20, 25, 30, 40, 50]\n"
          ]
        }
      ]
    },
    {
      "cell_type": "code",
      "source": [
        "# Program to find the minimum and maximum value of an array\n",
        "\n",
        "arr = [10, 25, 3, 48, 7, 15]\n",
        "\n",
        "minimum = min(arr)\n",
        "maximum = max(arr)\n",
        "\n",
        "print(\"Array:\", arr)\n",
        "print(\"Minimum value:\", minimum)\n",
        "print(\"Maximum value:\", maximum)"
      ],
      "metadata": {
        "colab": {
          "base_uri": "https://localhost:8080/"
        },
        "id": "pwVitRLmh8m2",
        "outputId": "8bc1b8ef-465d-43c9-a371-89e54cec723a"
      },
      "execution_count": null,
      "outputs": [
        {
          "output_type": "stream",
          "name": "stdout",
          "text": [
            "Array: [10, 25, 3, 48, 7, 15]\n",
            "Minimum value: 3\n",
            "Maximum value: 48\n"
          ]
        }
      ]
    },
    {
      "cell_type": "code",
      "source": [
        "# Program to reverse an array of integer values\n",
        "\n",
        "arr = [10, 20, 30, 40, 50]\n",
        "\n",
        "reversed_arr = arr[::-1]\n",
        "\n",
        "print(\"Original array:\", arr)\n",
        "print(\"Reversed array:\", reversed_arr)"
      ],
      "metadata": {
        "colab": {
          "base_uri": "https://localhost:8080/"
        },
        "id": "_qwJ9L08iyuM",
        "outputId": "5ef4d131-40bc-42e5-b4a3-6e9e067db18c"
      },
      "execution_count": null,
      "outputs": [
        {
          "output_type": "stream",
          "name": "stdout",
          "text": [
            "Original array: [10, 20, 30, 40, 50]\n",
            "Reversed array: [50, 40, 30, 20, 10]\n"
          ]
        }
      ]
    },
    {
      "cell_type": "code",
      "source": [
        "# Program to find the duplicate values of an array\n",
        "\n",
        "arr = [1, 2, 3, 2, 4, 5, 3, 6, 1]\n",
        "duplicates = []\n",
        "\n",
        "for i in range(len(arr)):\n",
        "    for j in range(i + 1, len(arr)):\n",
        "        if arr[i] == arr[j] and arr[i] not in duplicates:\n",
        "            duplicates.append(arr[i])\n",
        "\n",
        "print(\"Duplicate values in the array:\", duplicates)"
      ],
      "metadata": {
        "colab": {
          "base_uri": "https://localhost:8080/"
        },
        "id": "Jcaf68odjHeg",
        "outputId": "58534f4d-9bfb-4356-8413-2d81fecc97f3"
      },
      "execution_count": null,
      "outputs": [
        {
          "output_type": "stream",
          "name": "stdout",
          "text": [
            "Duplicate values in the array: [1, 2, 3]\n"
          ]
        }
      ]
    },
    {
      "cell_type": "code",
      "source": [
        "# Program to find the common values between two arrays\n",
        "\n",
        "array1 = [1, 2, 3, 4, 5]\n",
        "array2 = [4, 5, 6, 7, 8]\n",
        "\n",
        "common = []\n",
        "\n",
        "for value in array1:\n",
        "    if value in array2 and value not in common:\n",
        "        common.append(value)\n",
        "\n",
        "print(\"Common values:\", common)\n"
      ],
      "metadata": {
        "colab": {
          "base_uri": "https://localhost:8080/"
        },
        "id": "6k_nLmHPkLe6",
        "outputId": "0e921385-f4f7-43cf-c801-64d648c595bc"
      },
      "execution_count": null,
      "outputs": [
        {
          "output_type": "stream",
          "name": "stdout",
          "text": [
            "Common values: [4, 5]\n"
          ]
        }
      ]
    },
    {
      "cell_type": "code",
      "source": [
        "# Program remove duplicate elements from an array\n",
        "\n",
        "def remove_duplicates(arr):\n",
        "    unique = []\n",
        "    for item in arr:\n",
        "        if item not in unique:\n",
        "            unique.append(item)\n",
        "    return unique\n",
        "\n",
        "array = [1, 2, 2, 3, 4, 4, 5, 1]\n",
        "result = remove_duplicates(array)\n",
        "\n",
        "print(\"Original array:\", array)\n",
        "print(\"Array after removing duplicates:\", result)\n"
      ],
      "metadata": {
        "colab": {
          "base_uri": "https://localhost:8080/"
        },
        "id": "MNlPB4dnkcos",
        "outputId": "2acf92e7-b40b-4753-b3f7-8316b2eda2dc"
      },
      "execution_count": null,
      "outputs": [
        {
          "output_type": "stream",
          "name": "stdout",
          "text": [
            "Original array: [1, 2, 2, 3, 4, 4, 5, 1]\n",
            "Array after removing duplicates: [1, 2, 3, 4, 5]\n"
          ]
        }
      ]
    },
    {
      "cell_type": "code",
      "source": [
        "# Program to find the second largest number in an array\n",
        "\n",
        "def second_largest(arr):\n",
        "\n",
        "    unique = list(set(arr))\n",
        "    if len(unique) < 2:\n",
        "        return None\n",
        "    unique.sort(reverse=True)\n",
        "    return unique[1]\n",
        "\n",
        "array = [10, 20, 4, 45, 99, 105]\n",
        "result = second_largest(array)\n",
        "\n",
        "if result is not None:\n",
        "    print(\"Second largest number is:\", result)\n",
        "else:\n",
        "    print(\"Array doesn't have a second largest number.\")\n"
      ],
      "metadata": {
        "colab": {
          "base_uri": "https://localhost:8080/"
        },
        "id": "hR_47ncvk_QL",
        "outputId": "759c8a97-be83-4460-bbbc-a87dc951c552"
      },
      "execution_count": null,
      "outputs": [
        {
          "output_type": "stream",
          "name": "stdout",
          "text": [
            "Second largest number is: 99\n"
          ]
        }
      ]
    },
    {
      "cell_type": "code",
      "source": [
        "# Program to find number of even number and odd numbers in an array\n",
        "\n",
        "def count_even_odd(arr):\n",
        "    even_count = 0\n",
        "    odd_count = 0\n",
        "    for num in arr:\n",
        "        if num % 2 == 0:\n",
        "            even_count += 1\n",
        "        else:\n",
        "            odd_count += 1\n",
        "    return even_count, odd_count\n",
        "\n",
        "array = [1, 2, 3, 4, 5, 6, 7, 8, 9, 10,12]\n",
        "even, odd = count_even_odd(array)\n",
        "\n",
        "print(\"Even numbers:\", even)\n",
        "print(\"Odd numbers:\", odd)\n"
      ],
      "metadata": {
        "colab": {
          "base_uri": "https://localhost:8080/"
        },
        "id": "3RHWtjfNlYkc",
        "outputId": "758ac5d5-6d34-4993-c1ad-3ab0c0a4cf33"
      },
      "execution_count": null,
      "outputs": [
        {
          "output_type": "stream",
          "name": "stdout",
          "text": [
            "Even numbers: 6\n",
            "Odd numbers: 5\n"
          ]
        }
      ]
    },
    {
      "cell_type": "code",
      "source": [
        "# Program to find the difference of largest and smallest value\n",
        "\n",
        "def difference_max_min(arr):\n",
        "    if len(arr) == 0:\n",
        "        return None\n",
        "    return max(arr) - min(arr)\n",
        "\n",
        "array = [12, 5, 8, 21, 3, 18]\n",
        "difference = difference_max_min(array)\n",
        "\n",
        "print(\"Array:\", array)\n",
        "print(\"Difference between largest and smallest value:\", difference)\n"
      ],
      "metadata": {
        "colab": {
          "base_uri": "https://localhost:8080/"
        },
        "id": "hWxQHkqqluIg",
        "outputId": "93f96155-b700-4f9d-a315-09930d819d9b"
      },
      "execution_count": null,
      "outputs": [
        {
          "output_type": "stream",
          "name": "stdout",
          "text": [
            "Array: [12, 5, 8, 21, 3, 18]\n",
            "Difference between largest and smallest value: 18\n"
          ]
        }
      ]
    },
    {
      "cell_type": "code",
      "source": [
        "# Program to verify if the array contains two specified elements(12,23)\n",
        "\n",
        "def contains_elements(arr, elem1, elem2):\n",
        "    return elem1 in arr and elem2 in arr\n",
        "\n",
        "array = [5, 12, 7, 19, 23]\n",
        "\n",
        "if contains_elements(array, 12, 23):\n",
        "    print(\"The array contains both 12 and 23.\")\n",
        "else:\n",
        "    print(\"The array does not contain both 12 and 23.\")\n"
      ],
      "metadata": {
        "colab": {
          "base_uri": "https://localhost:8080/"
        },
        "id": "saNkHbngmHa0",
        "outputId": "78ff2886-1549-4125-b516-c01d1d46e892"
      },
      "execution_count": null,
      "outputs": [
        {
          "output_type": "stream",
          "name": "stdout",
          "text": [
            "The array contains both 12 and 23.\n"
          ]
        }
      ]
    },
    {
      "cell_type": "code",
      "source": [
        "# Program to remove the duplicate elements and return the new array\n",
        "\n",
        "def remove_duplicates(arr):\n",
        "    unique = []\n",
        "    for item in arr:\n",
        "        if item not in unique:\n",
        "            unique.append(item)\n",
        "    return unique\n",
        "\n",
        "array = [1, 2, 2, 3, 4, 4, 5, 1]\n",
        "new_array = remove_duplicates(array)\n",
        "\n",
        "print(\"Original array:\", array)\n",
        "print(\"New array without duplicates:\", new_array)\n"
      ],
      "metadata": {
        "colab": {
          "base_uri": "https://localhost:8080/"
        },
        "id": "Q2jYnrI3mhjF",
        "outputId": "b585ad42-5295-4d7e-abf1-f514db2a23c9"
      },
      "execution_count": null,
      "outputs": [
        {
          "output_type": "stream",
          "name": "stdout",
          "text": [
            "Original array: [1, 2, 2, 3, 4, 4, 5, 1]\n",
            "New array without duplicates: [1, 2, 3, 4, 5]\n"
          ]
        }
      ]
    }
  ]
}