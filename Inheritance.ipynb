{
  "nbformat": 4,
  "nbformat_minor": 0,
  "metadata": {
    "colab": {
      "provenance": [],
      "authorship_tag": "ABX9TyP6idVcWOVqvJD8B/V7AEHb",
      "include_colab_link": true
    },
    "kernelspec": {
      "name": "python3",
      "display_name": "Python 3"
    },
    "language_info": {
      "name": "python"
    }
  },
  "cells": [
    {
      "cell_type": "markdown",
      "metadata": {
        "id": "view-in-github",
        "colab_type": "text"
      },
      "source": [
        "<a href=\"https://colab.research.google.com/github/Nandeshwar1309/Python/blob/main/Inheritance.ipynb\" target=\"_parent\"><img src=\"https://colab.research.google.com/assets/colab-badge.svg\" alt=\"Open In Colab\"/></a>"
      ]
    },
    {
      "cell_type": "code",
      "execution_count": 1,
      "metadata": {
        "colab": {
          "base_uri": "https://localhost:8080/"
        },
        "id": "P9bLhjnqS7iW",
        "outputId": "312e2002-0520-46a3-e4bc-10afb1fca255"
      },
      "outputs": [
        {
          "output_type": "stream",
          "name": "stdout",
          "text": [
            "=== Calling methods with their own class instances ===\n",
            "Method A1 - Specific to class A\n",
            "Method A2 - Specific to class A\n",
            "Display from class A\n",
            "\n",
            "---\n",
            "Method A1 - Specific to class A\n",
            "Method A2 - Specific to class A\n",
            "Method B1 - Specific to class B\n",
            "Method B2 - Specific to class B\n",
            "Display from class B\n",
            "\n",
            "---\n",
            "Method A1 - Specific to class A\n",
            "Method A2 - Specific to class A\n",
            "Method B1 - Specific to class B\n",
            "Method B2 - Specific to class B\n",
            "Method C1 - Specific to class C\n",
            "Method C2 - Specific to class C\n",
            "Display from class C\n",
            "\n",
            "=== Polymorphism with superclass references ===\n",
            "Display from class B\n",
            "Display from class C\n"
          ]
        }
      ],
      "source": [
        "# Superclass A\n",
        "class A:\n",
        "    def method_a1(self):\n",
        "        print(\"Method A1 - Specific to class A\")\n",
        "\n",
        "    def method_a2(self):\n",
        "        print(\"Method A2 - Specific to class A\")\n",
        "\n",
        "    def display(self):\n",
        "        print(\"Display from class A\")\n",
        "\n",
        "# Subclass B of A\n",
        "class B(A):\n",
        "    def method_b1(self):\n",
        "        print(\"Method B1 - Specific to class B\")\n",
        "\n",
        "    def method_b2(self):\n",
        "        print(\"Method B2 - Specific to class B\")\n",
        "\n",
        "    def display(self):\n",
        "        print(\"Display from class B\")\n",
        "\n",
        "# Subclass C of B\n",
        "class C(B):\n",
        "    def method_c1(self):\n",
        "        print(\"Method C1 - Specific to class C\")\n",
        "\n",
        "    def method_c2(self):\n",
        "        print(\"Method C2 - Specific to class C\")\n",
        "\n",
        "    def display(self):\n",
        "        print(\"Display from class C\")\n",
        "\n",
        "if __name__ == \"__main__\":\n",
        "    print(\"=== Calling methods with their own class instances ===\")\n",
        "\n",
        "    obj_a = A()\n",
        "    obj_a.method_a1()\n",
        "    obj_a.method_a2()\n",
        "    obj_a.display()\n",
        "\n",
        "    print(\"\\n---\")\n",
        "\n",
        "    obj_b = B()\n",
        "    obj_b.method_a1()\n",
        "    obj_b.method_a2()\n",
        "    obj_b.method_b1()\n",
        "    obj_b.method_b2()\n",
        "    obj_b.display()\n",
        "\n",
        "    print(\"\\n---\")\n",
        "\n",
        "    obj_c = C()\n",
        "    obj_c.method_a1()\n",
        "    obj_c.method_a2()\n",
        "    obj_c.method_b1()\n",
        "    obj_c.method_b2()\n",
        "    obj_c.method_c1()\n",
        "    obj_c.method_c2()\n",
        "    obj_c.display()\n",
        "\n",
        "    print(\"\\n=== Polymorphism with superclass references ===\")\n",
        "\n",
        "    ref: A = B()\n",
        "    ref.display()  # Will call B's display method\n",
        "\n",
        "    ref = C()\n",
        "    ref.display()  # Will call C's display method"
      ]
    },
    {
      "cell_type": "code",
      "source": [
        "# Polymorphism with Data Members\n",
        "\n",
        "class A:\n",
        "    value = \"Data from class A\"\n",
        "\n",
        "class B(A):\n",
        "    value = \"Data from class B\"\n",
        "\n",
        "class C(B):\n",
        "    value = \"Data from class C\"\n",
        "\n",
        "if __name__ == \"__main__\":\n",
        "    print(\"\\n=== Data Member Polymorphism ===\")\n",
        "\n",
        "    obj_a = A()\n",
        "    obj_b = B()\n",
        "    obj_c = C()\n",
        "\n",
        "    print(\"A's value:\", obj_a.value)\n",
        "    print(\"B's value:\", obj_b.value)\n",
        "    print(\"C's value:\", obj_c.value)\n",
        "\n",
        "    ref: A = B()\n",
        "    print(\"Reference of type A pointing to B:\", ref.value)  # Will still show A's value due to variable hiding\n",
        "\n",
        "    ref = C()\n",
        "    print(\"Reference of type A pointing to C:\", ref.value)  # Still A's value\n"
      ],
      "metadata": {
        "colab": {
          "base_uri": "https://localhost:8080/"
        },
        "id": "fHbxz1x3TJxH",
        "outputId": "7b24f764-cc14-40fd-b865-50f9c1f10983"
      },
      "execution_count": 2,
      "outputs": [
        {
          "output_type": "stream",
          "name": "stdout",
          "text": [
            "\n",
            "=== Data Member Polymorphism ===\n",
            "A's value: Data from class A\n",
            "B's value: Data from class B\n",
            "C's value: Data from class C\n",
            "Reference of type A pointing to B: Data from class B\n",
            "Reference of type A pointing to C: Data from class C\n"
          ]
        }
      ]
    }
  ]
}