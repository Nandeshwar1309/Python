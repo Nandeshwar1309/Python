{
  "nbformat": 4,
  "nbformat_minor": 0,
  "metadata": {
    "colab": {
      "provenance": [],
      "authorship_tag": "ABX9TyMjy6P8SzSito+FxwXPieuE",
      "include_colab_link": true
    },
    "kernelspec": {
      "name": "python3",
      "display_name": "Python 3"
    },
    "language_info": {
      "name": "python"
    }
  },
  "cells": [
    {
      "cell_type": "markdown",
      "metadata": {
        "id": "view-in-github",
        "colab_type": "text"
      },
      "source": [
        "<a href=\"https://colab.research.google.com/github/Nandeshwar1309/Python/blob/main/Strings.ipynb\" target=\"_parent\"><img src=\"https://colab.research.google.com/assets/colab-badge.svg\" alt=\"Open In Colab\"/></a>"
      ]
    },
    {
      "cell_type": "code",
      "execution_count": null,
      "metadata": {
        "colab": {
          "base_uri": "https://localhost:8080/"
        },
        "id": "QRgyTTpTogML",
        "outputId": "edee6d39-57ba-424c-f90a-af64e11a3183"
      },
      "outputs": [
        {
          "output_type": "stream",
          "name": "stdout",
          "text": [
            "Hello\n",
            "World\n",
            "This is a multi-line string\n",
            "Python is awesome\n",
            "123\n",
            "Hello world\n",
            "Hello, Alice!\n"
          ]
        }
      ],
      "source": [
        "# Program for different ways of creating a string\n",
        "\n",
        "str1 = 'Hello'\n",
        "\n",
        "str2 = \"World\"\n",
        "\n",
        "str3 = '''This is a multi-line string'''\n",
        "\n",
        "str4 = \"\"\"Python is awesome\"\"\"\n",
        "\n",
        "str5 = str(123)\n",
        "\n",
        "str6 = \"Hello\" + \" \" + \"world\"\n",
        "\n",
        "name = \"Alice\"\n",
        "str7 = f\"Hello, {name}!\"\n",
        "\n",
        "print(str1)\n",
        "print(str2)\n",
        "print(str3)\n",
        "print(str4)\n",
        "print(str5)\n",
        "print(str6)\n",
        "print(str7)"
      ]
    },
    {
      "cell_type": "code",
      "source": [
        "# Program for concatenating two strings using + operator\n",
        "\n",
        "str1 = \"Hello\"\n",
        "str2 = \"World\"\n",
        "\n",
        "result = str1 + \" \" + str2\n",
        "\n",
        "print(result)"
      ],
      "metadata": {
        "colab": {
          "base_uri": "https://localhost:8080/"
        },
        "id": "gAWTWYTVpa8y",
        "outputId": "601aa2b2-c2b8-4e06-b3ec-be9135f3aa9e"
      },
      "execution_count": null,
      "outputs": [
        {
          "output_type": "stream",
          "name": "stdout",
          "text": [
            "Hello World\n"
          ]
        }
      ]
    },
    {
      "cell_type": "code",
      "source": [
        "# Program to find the length of the string\n",
        "\n",
        "str1 = \"Hello, World!\"\n",
        "\n",
        "length = len(str1)\n",
        "\n",
        "print(length)"
      ],
      "metadata": {
        "colab": {
          "base_uri": "https://localhost:8080/"
        },
        "id": "IeYQe8pYpvc4",
        "outputId": "3a0eed19-66c6-4fcd-81f7-c642a5ea7c4e"
      },
      "execution_count": null,
      "outputs": [
        {
          "output_type": "stream",
          "name": "stdout",
          "text": [
            "13\n"
          ]
        }
      ]
    },
    {
      "cell_type": "code",
      "source": [
        "# Program to extract a string using Substring\n",
        "\n",
        "str1 = \"Hello, World!\"\n",
        "\n",
        "substring = str1[5:12]\n",
        "\n",
        "print(substring)"
      ],
      "metadata": {
        "colab": {
          "base_uri": "https://localhost:8080/"
        },
        "id": "vLlPsyJzp78K",
        "outputId": "cd1ce40b-e40d-4c6f-d8ad-1c3315d5171c"
      },
      "execution_count": null,
      "outputs": [
        {
          "output_type": "stream",
          "name": "stdout",
          "text": [
            ", World\n"
          ]
        }
      ]
    },
    {
      "cell_type": "code",
      "source": [
        "# Program for searching in strings using index()\n",
        "\n",
        "str1 = \"Hello, World!\"\n",
        "\n",
        "index = str1.index(\"!\")\n",
        "\n",
        "print(index)"
      ],
      "metadata": {
        "colab": {
          "base_uri": "https://localhost:8080/"
        },
        "id": "HXJt3Ji_qGuv",
        "outputId": "fcb650d7-18b9-4b01-893d-d7498be815fd"
      },
      "execution_count": null,
      "outputs": [
        {
          "output_type": "stream",
          "name": "stdout",
          "text": [
            "12\n"
          ]
        }
      ]
    },
    {
      "cell_type": "code",
      "source": [
        "# Program to match a String Against a Regular Expression With matches()\n",
        "\n",
        "import re\n",
        "\n",
        "string = \"Hello123\"\n",
        "pattern = r\"[A-Za-z]+\\d+\"\n",
        "\n",
        "if re.fullmatch(pattern, string):\n",
        "    print(\"The string matches the pattern.\")\n",
        "else:\n",
        "    print(\"The string does not match the pattern.\")"
      ],
      "metadata": {
        "colab": {
          "base_uri": "https://localhost:8080/"
        },
        "id": "_2-7q4BDqTHQ",
        "outputId": "d3a91721-2128-49b8-9f81-7f0091f4206f"
      },
      "execution_count": null,
      "outputs": [
        {
          "output_type": "stream",
          "name": "stdout",
          "text": [
            "The string matches the pattern.\n"
          ]
        }
      ]
    },
    {
      "cell_type": "code",
      "source": [
        "# Program to compare strings\n",
        "\n",
        "str1 = \"Hello\"\n",
        "str2 = \"Hello\"\n",
        "\n",
        "if str1 == str2:\n",
        "    print(\"The strings are equal.\")\n",
        "else:\n",
        "    print(\"The strings are not equal.\")"
      ],
      "metadata": {
        "colab": {
          "base_uri": "https://localhost:8080/"
        },
        "id": "hJGdPoDvqxKE",
        "outputId": "ca5b6c97-41cf-4b86-b170-2da14406098e"
      },
      "execution_count": null,
      "outputs": [
        {
          "output_type": "stream",
          "name": "stdout",
          "text": [
            "The strings are equal.\n"
          ]
        }
      ]
    },
    {
      "cell_type": "code",
      "source": [
        "# startsWith(), endsWith() and compareTo()\n",
        "\n",
        "str1 = \"HelloWorld\"\n",
        "str2 = \"Hello\"\n",
        "\n",
        "print(\"Starts with:\", str1.startswith(str2))\n",
        "\n",
        "print(\"Ends with:\", str1.endswith(\"World\"))\n",
        "\n",
        "if str1 == str2:\n",
        "    print(\"Strings are equal.\")\n",
        "elif str1 > str2:\n",
        "    print(\"str1 is greater than str2.\")\n",
        "else:\n",
        "    print(\"str1 is less than str2.\")"
      ],
      "metadata": {
        "colab": {
          "base_uri": "https://localhost:8080/"
        },
        "id": "G9R9iJXPrOOt",
        "outputId": "58cf116c-cb06-41b3-ffb3-2f03c8fe2ab1"
      },
      "execution_count": null,
      "outputs": [
        {
          "output_type": "stream",
          "name": "stdout",
          "text": [
            "Starts with: True\n",
            "Ends with: True\n",
            "str1 is greater than str2.\n"
          ]
        }
      ]
    },
    {
      "cell_type": "code",
      "source": [
        "# Program for Trimming strings with strip()\n",
        "\n",
        "str_with_spaces = \"   Hello, World!   \"\n",
        "\n",
        "trimmed_str = str_with_spaces.strip()\n",
        "\n",
        "print(\"Before trimming: '\" + str_with_spaces + \"'\")\n",
        "print(\"After trimming: '\" + trimmed_str + \"'\")"
      ],
      "metadata": {
        "colab": {
          "base_uri": "https://localhost:8080/"
        },
        "id": "nV64YvUerj11",
        "outputId": "e0c5b4e6-0f35-4764-f8c4-54b6a8b6a0d1"
      },
      "execution_count": null,
      "outputs": [
        {
          "output_type": "stream",
          "name": "stdout",
          "text": [
            "Before trimming: '   Hello, World!   '\n",
            "After trimming: 'Hello, World!'\n"
          ]
        }
      ]
    },
    {
      "cell_type": "code",
      "source": [
        "# Program for replacing characters in strings with replace()\n",
        "\n",
        "original_str = \"Hello, World!\"\n",
        "\n",
        "new_str = original_str.replace('o', '0')\n",
        "\n",
        "print(\"Before replacement:\", original_str)\n",
        "print(\"After replacement:\", new_str)"
      ],
      "metadata": {
        "colab": {
          "base_uri": "https://localhost:8080/"
        },
        "id": "HRRUuW7LsaNE",
        "outputId": "11e11b56-7c20-4c1d-ffcd-14d6675654f2"
      },
      "execution_count": null,
      "outputs": [
        {
          "output_type": "stream",
          "name": "stdout",
          "text": [
            "Before replacement: Hello, World!\n",
            "After replacement: Hell0, W0rld!\n"
          ]
        }
      ]
    },
    {
      "cell_type": "code",
      "source": [
        "# Program for splitting strings with split()\n",
        "\n",
        "str1 = \"Hello, World!\"\n",
        "\n",
        "words = str1.split()\n",
        "\n",
        "print(words)"
      ],
      "metadata": {
        "colab": {
          "base_uri": "https://localhost:8080/"
        },
        "id": "eaHHJ9nFsxbj",
        "outputId": "29ea432c-6611-4ba8-a7fc-31b61b412224"
      },
      "execution_count": null,
      "outputs": [
        {
          "output_type": "stream",
          "name": "stdout",
          "text": [
            "['Hello,', 'World!']\n"
          ]
        }
      ]
    },
    {
      "cell_type": "code",
      "source": [
        "# Program for converting integer objects to Strings\n",
        "\n",
        "num = 123\n",
        "\n",
        "str_num = str(num)\n",
        "\n",
        "print(\"String:\", str_num)\n",
        "print(\"Type:\", type(str_num))"
      ],
      "metadata": {
        "colab": {
          "base_uri": "https://localhost:8080/"
        },
        "id": "qHBCDu2VtHyS",
        "outputId": "570dd440-46e0-438a-83ce-deafaab8db60"
      },
      "execution_count": null,
      "outputs": [
        {
          "output_type": "stream",
          "name": "stdout",
          "text": [
            "String: 123\n",
            "Type: <class 'str'>\n"
          ]
        }
      ]
    },
    {
      "cell_type": "code",
      "source": [
        "# Program for converting to uppercase and lowercase\n",
        "\n",
        "str1 = \"Hello, World!\"\n",
        "\n",
        "uppercase_str = str1.upper()\n",
        "lowercase_str = str1.lower()\n",
        "\n",
        "print(\"Original:\", str1)\n",
        "print(\"Uppercase:\", uppercase_str)\n",
        "print(\"Lowercase:\", lowercase_str)"
      ],
      "metadata": {
        "colab": {
          "base_uri": "https://localhost:8080/"
        },
        "id": "5LdmFNiftffc",
        "outputId": "cf216e98-8a43-4a70-9588-da3513da23f3"
      },
      "execution_count": null,
      "outputs": [
        {
          "output_type": "stream",
          "name": "stdout",
          "text": [
            "Original: Hello, World!\n",
            "Uppercase: HELLO, WORLD!\n",
            "Lowercase: hello, world!\n"
          ]
        }
      ]
    }
  ]
}